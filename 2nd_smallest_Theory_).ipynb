{
  "nbformat": 4,
  "nbformat_minor": 0,
  "metadata": {
    "colab": {
      "name": "2nd smallest Theory :).ipynb",
      "private_outputs": true,
      "provenance": [],
      "authorship_tag": "ABX9TyMJxVumvM0ZOeES16JChVLV",
      "include_colab_link": true
    },
    "kernelspec": {
      "name": "python3",
      "display_name": "Python 3"
    }
  },
  "cells": [
    {
      "cell_type": "markdown",
      "metadata": {
        "id": "view-in-github",
        "colab_type": "text"
      },
      "source": [
        "<a href=\"https://colab.research.google.com/github/Aryabhatt-O/Computational-Geometry/blob/main/2nd_smallest_Theory_).ipynb\" target=\"_parent\"><img src=\"https://colab.research.google.com/assets/colab-badge.svg\" alt=\"Open In Colab\"/></a>"
      ]
    },
    {
      "cell_type": "code",
      "metadata": {
        "id": "jzkuvc46rxsx"
      },
      "source": [
        "from random import *\r\n",
        "import heapq\r\n",
        "import numpy as np\r\n",
        "\r\n",
        "\r\n",
        "#random\r\n",
        "M = randint(15, 25)\r\n",
        "restro = np.random.uniform(10,100, size=(M, 2))\r\n",
        "N = randint(50, 100)\r\n",
        "friends_location = np.random.uniform(10, 100, size=(N, 2))\r\n",
        "\r\n",
        "\r\n",
        "total = []\r\n",
        "index = []\r\n",
        "for i in range(len(restro)):\r\n",
        "  distance = np.sum((friends_location - restro[i])**2, axis=1)\r\n",
        "  # print(distance)\r\n",
        "  # print(sum(distance),i+1)\r\n",
        "  total.append(sum(distance))\r\n",
        "  index.append(i+1)\r\n",
        " \r\n",
        "\r\n",
        "# print(total)\r\n",
        "# print(index)\r\n",
        "second_small = heapq.nsmallest(2,total)\r\n",
        "# print(second_small)\r\n",
        "for i in range(len(total)):\r\n",
        "  if total[i] == second_small[1]:\r\n",
        "    print(\"My Required Index: \",index[i]) \r\n",
        "\r\n",
        "\r\n",
        "# For checking from voronoi\r\n",
        "\r\n",
        "from random import *\r\n",
        "import random\r\n",
        "import matplotlib.pyplot as plt\r\n",
        "from scipy.spatial import Voronoi, voronoi_plot_2d\r\n",
        "import numpy as np\r\n",
        "vor = Voronoi(restro,qhull_options='Qbb Qc Qx')\r\n",
        "voronoi_plot_2d(vor,show_vertices = True)\r\n",
        "\r\n",
        "#for plotting my friends location \r\n",
        "x, y = friends_location.T\r\n",
        "plt.plot(x,y, 'ko')\r\n",
        "\r\n",
        "\r\n",
        "\r\n",
        "for region in vor.regions:\r\n",
        "    if not -1 in region:\r\n",
        "        polygon = [vor.vertices[i] for i in region]\r\n",
        "        plt.fill(*zip(*polygon))\r\n",
        "\r\n",
        "\r\n",
        "\r\n",
        "for i,a in enumerate(restro):\r\n",
        "   print(\"restro point\",a,\"-->\",i+1)\r\n",
        "\r\n",
        "\r\n"
      ],
      "execution_count": null,
      "outputs": []
    },
    {
      "cell_type": "code",
      "metadata": {
        "id": "KeLkeNtL9bPA"
      },
      "source": [
        "assosiated = [] \r\n",
        "for i, reg in enumerate(vor.regions):\r\n",
        "  print('Region:', i)\r\n",
        "  print('Indices of vertices of Voronoi region:', reg)\r\n",
        "  b = np.where(vor.point_region == i)[0][0]\r\n",
        "  print('Associated point index refer to input points:',b+1)\r\n",
        "  assosiated.append(b+1)\r\n",
        "print(assosiated)\r\n",
        "\r\n",
        "\r\n"
      ],
      "execution_count": null,
      "outputs": []
    }
  ]
}