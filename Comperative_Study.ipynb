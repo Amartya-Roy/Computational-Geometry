{
  "nbformat": 4,
  "nbformat_minor": 0,
  "metadata": {
    "colab": {
      "name": "Comperative-Study.ipynb",
      "private_outputs": true,
      "provenance": [],
      "authorship_tag": "ABX9TyOn/5k7dgwOk+7hVKF7CAI3",
      "include_colab_link": true
    },
    "kernelspec": {
      "name": "python3",
      "display_name": "Python 3"
    },
    "language_info": {
      "name": "python"
    }
  },
  "cells": [
    {
      "cell_type": "markdown",
      "metadata": {
        "id": "view-in-github",
        "colab_type": "text"
      },
      "source": [
        "<a href=\"https://colab.research.google.com/github/Aryabhatt-O/Computational-Geometry/blob/main/Comperative_Study.ipynb\" target=\"_parent\"><img src=\"https://colab.research.google.com/assets/colab-badge.svg\" alt=\"Open In Colab\"/></a>"
      ]
    },
    {
      "cell_type": "markdown",
      "source": [
        "\n",
        "\n",
        "```\n",
        " Friends are up for a reunion but In which restaurent should they gather???? 🤔 \n",
        "```\n",
        "\n"
      ],
      "metadata": {
        "id": "9dPwM2vo6f8U"
      }
    },
    {
      "cell_type": "markdown",
      "source": [
        "# **Importing Libraries**\n",
        "🚻"
      ],
      "metadata": {
        "id": "KaQh1_gGQ5_5"
      }
    },
    {
      "cell_type": "code",
      "source": [
        "import numpy as np\n",
        "from scipy import spatial\n",
        "from scipy.spatial import KDTree\n",
        "from scipy.spatial import cKDTree\n",
        "import numpy as np\n",
        "import random\n",
        "from random import *\n",
        "import heapq\n",
        "import matplotlib.pyplot as plt\n",
        "from scipy.spatial import Voronoi, voronoi_plot_2d\n",
        "!pip install sklearn\n",
        "from sklearn.neighbors import NearestCentroid\n",
        "from sklearn.cluster import AgglomerativeClustering\n",
        "from collections import Counter, defaultdict\n",
        "import pandas as pd\n",
        "# import numpy as np\n",
        "import seaborn as sns\n",
        "import operator\n",
        "# from sklearn import datasets\n",
        "from sklearn.cluster import KMeans\n",
        "# import matplotlib.pyplot as plt\n",
        "# import matplotlib.patches as mpatches\n",
        "# import sklearn.metrics as sm\n",
        "%matplotlib inline\n"
      ],
      "metadata": {
        "id": "EeswWdCvQ5js"
      },
      "execution_count": null,
      "outputs": []
    },
    {
      "cell_type": "markdown",
      "source": [
        "## **Creating DataPoints**"
      ],
      "metadata": {
        "id": "YCnoRSAgTuEm"
      }
    },
    {
      "cell_type": "code",
      "source": [
        "\n",
        "N   = 10000\n",
        "pts = 2500*np.random.random((N,2))\n",
        "\n",
        "# tree = KDTree(pts)\n",
        "# print (tree.sparse_distance_matrix(tree, 200))\n",
        "# print(pts)\n",
        "\n",
        "\n",
        "\n",
        "\n",
        "# -----------------\n",
        "\n",
        "\n",
        "m = int((0.1)*len(pts))\n",
        "centroid = pts[np.random.randint(pts.shape[0], size= m), :]\n",
        "print(len(centroid))"
      ],
      "metadata": {
        "id": "hkxhpBrcAUPT"
      },
      "execution_count": null,
      "outputs": []
    },
    {
      "cell_type": "markdown",
      "source": [
        "## **Voronoi-Method**"
      ],
      "metadata": {
        "id": "OP7036vjT3mR"
      }
    },
    {
      "cell_type": "code",
      "source": [
        "%%time\n",
        "\n",
        "def find_nearest(big_array,small_array,tolerance):\n",
        "    tree_big=spatial.cKDTree(big_array)\n",
        "    tree_small=spatial.cKDTree(small_array)\n",
        "    return tree_small.query_ball_tree(tree_big,r=tolerance)\n",
        "\n",
        "higher_dim_index = []\n",
        "higher_dim_index = find_nearest(pts,centroid,0)\n",
        "# print(higher_dim_index)\n",
        "\n",
        "# ---------------------------------------------------------\n",
        "rest_data = np.delete(pts, higher_dim_index, axis=0)\n",
        "# ----------------------------------------------------------\n",
        "\n",
        "\n",
        "\n",
        "# M = randint(15, 25)\n",
        "# centroid = np.random.uniform(10,100, size=(M, 2))\n",
        "# N = randint(50, 100)\n",
        "# rest_data = np.random.uniform(10, 100, size=(N, 2))\n",
        "\n",
        "\n",
        "\n",
        "vor = Voronoi(centroid,qhull_options='Qbb Qc Qx')\n",
        "voronoi_plot_2d(vor,show_vertices = True)\n",
        "\n",
        "#for plotting my friends location \n",
        "x, y = rest_data.T\n",
        "plt.plot(x,y, 'ko')\n",
        "\n",
        "\n",
        "#for plotting agolo-centroid\n",
        "# i, j = clf.centroids_.T\n",
        "# plt.plot(i,j, 'bo')\n",
        "\n",
        "\n",
        "\n",
        "for region in vor.regions:\n",
        "    if not -1 in region:\n",
        "        polygon = [vor.vertices[i] for i in region]\n",
        "        \n",
        "        plt.fill(*zip(*polygon))\n",
        "\n",
        "# --------------------------------------------------\n",
        "\n",
        "voronoi_kdtree = cKDTree(centroid)\n",
        "test_point_dist, test_point_regions = voronoi_kdtree.query(rest_data)\n",
        "l= test_point_regions\n",
        "m = test_point_dist\n",
        "# print(l)\n",
        "# --------------------------------------------------\n",
        "number_of_points = []\n",
        "unique, counts = np.unique(l, return_counts=True)\n",
        "vor_inside_point_count = dict(zip(unique, counts))\n",
        "# print(vor_inside_point_count)\n",
        "number_of_points = list(vor_inside_point_count.values())\n",
        "# print(number_of_points)\n",
        "# -----------------------------------------------------------\n",
        "# Getting max item\n",
        "import operator\n",
        "idx_vor = max(vor_inside_point_count.items(), key = operator.itemgetter(1))[0]\n",
        "print(\"Restro 1-->\", centroid[idx_vor])\n",
        "\n",
        "\n"
      ],
      "metadata": {
        "id": "7LVEXTKwAaO0"
      },
      "execution_count": null,
      "outputs": []
    },
    {
      "cell_type": "markdown",
      "source": [
        "## **Agolo-Method**"
      ],
      "metadata": {
        "id": "A1s_-TOiUATL"
      }
    },
    {
      "cell_type": "code",
      "source": [
        "%%time\n",
        "\n",
        "\n",
        "# --------------------------------------------\n",
        "# from sklearn.cluster import AgglomerativeClustering\n",
        "clusterer = AgglomerativeClustering(n_clusters=len(centroid), linkage='ward')  \n",
        "clusterer.fit_predict(rest_data)\n",
        "cluster_labels = clusterer.labels_\n",
        "# ----------------------------------------------\n",
        "\n",
        "y_predict = clusterer.fit_predict(rest_data)\n",
        "\n",
        "# from sklearn.neighbors import NearestCentroid\n",
        "clf = NearestCentroid()\n",
        "clf.fit(rest_data, y_predict)\n",
        "# print(clf.centroids_)\n",
        "# --------------------------------------\n",
        "agolo_inside_point_count = {}\n",
        "# from collections import Counter, defaultdict\n",
        "agolo_inside_point_count = (Counter(cluster_labels))\n",
        "sorted(agolo_inside_point_count.items(), key=lambda x: x[1],reverse = True)\n",
        "# ---------------------------------------------------------------------------\n",
        "\n",
        "# Getting max item\n",
        "idx_ag = max(agolo_inside_point_count.items(), key = operator.itemgetter(1))[0]\n",
        "print(\"Restro 2-->\", clf.centroids_[idx_ag])"
      ],
      "metadata": {
        "id": "BScpCu-_G_48"
      },
      "execution_count": null,
      "outputs": []
    },
    {
      "cell_type": "markdown",
      "source": [
        "## **KMeans++ Method**"
      ],
      "metadata": {
        "id": "TjtstF06UHPz"
      }
    },
    {
      "cell_type": "code",
      "source": [
        "%%time\n",
        "\n",
        "# import pandas as pd\n",
        "# import numpy as np\n",
        "# import seaborn as sns\n",
        "# from sklearn import datasets\n",
        "# from sklearn.cluster import KMeans\n",
        "# import matplotlib.pyplot as plt\n",
        "# import matplotlib.patches as mpatches\n",
        "# import sklearn.metrics as sm\n",
        "# %matplotlib inline\n",
        "\n",
        "# ------------------------\n",
        "pts_k_mean_model = KMeans(n_clusters=len(centroid))\n",
        "pts_k_mean_model.fit(rest_data)\n",
        "# --------------------------------------------\n",
        "# print(pts_k_mean_model.cluster_centers_)\n",
        "# len(pts_k_mean_model.cluster_centers_)\n",
        "# -----------------------------------------\n",
        "cluster_info = {i: rest_data[np.where(pts_k_mean_model.labels_ == i)] for i in range(pts_k_mean_model.n_clusters)}\n",
        "# cluster_info\n",
        "# ----------------------------------------------------------\n",
        "# from collections import Counter, defaultdict\n",
        "d = Counter(pts_k_mean_model.labels_)\n",
        "# sorted(d.items(), key=lambda x: x[1],reverse = True)\n",
        "# ----------------------------------------------\n",
        "# Getting max item\n",
        "# import operator\n",
        "idx_kmeans = max(d.items(), key = operator.itemgetter(1))[0]\n",
        "print(\"Restro 3-->\",pts_k_mean_model.cluster_centers_[idx_kmeans])\n"
      ],
      "metadata": {
        "id": "V5F_TxbeIHLA"
      },
      "execution_count": null,
      "outputs": []
    },
    {
      "cell_type": "markdown",
      "source": [
        "***Wall-clock time is the time that a clock on the wall (or a stopwatch in hand) would measure as having elapsed between the start of the process and 'now'.***\n",
        "\n",
        "### ***The user-cpu time and system-cpu time are pretty much as you said - the amount of time spent in user code and the amount of time spent in kernel code.***\n",
        "\n",
        "The units are seconds (and subseconds, which might be microseconds or nanoseconds).\n",
        "\n",
        "**The wall-clock time is not the number of seconds that the process has spent on the CPU; it is the elapsed time, including time spent waiting for its turn on the CPU (while other processes get to run)** \n",
        "\n",
        "✌"
      ],
      "metadata": {
        "id": "i5hLLW8XWV1u"
      }
    }
  ]
}