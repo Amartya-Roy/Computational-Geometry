{
  "nbformat": 4,
  "nbformat_minor": 0,
  "metadata": {
    "kernelspec": {
      "display_name": "Python 3",
      "language": "python",
      "name": "python3"
    },
    "language_info": {
      "codemirror_mode": {
        "name": "ipython",
        "version": 3
      },
      "file_extension": ".py",
      "mimetype": "text/x-python",
      "name": "python",
      "nbconvert_exporter": "python",
      "pygments_lexer": "ipython3",
      "version": "3.9.1"
    },
    "colab": {
      "name": "plot_mean_shift.ipynb",
      "provenance": [],
      "include_colab_link": true
    }
  },
  "cells": [
    {
      "cell_type": "markdown",
      "metadata": {
        "id": "view-in-github",
        "colab_type": "text"
      },
      "source": [
        "<a href=\"https://colab.research.google.com/github/Aryabhatt-O/Computational-Geometry/blob/main/plot_mean_shift.ipynb\" target=\"_parent\"><img src=\"https://colab.research.google.com/assets/colab-badge.svg\" alt=\"Open In Colab\"/></a>"
      ]
    },
    {
      "cell_type": "markdown",
      "metadata": {
        "id": "FGaHRSQT46kr"
      },
      "source": [
        "\n",
        "# The mean-shift clustering algorithm\n",
        "\n",
        "Reference:\n",
        "\n",
        "Dorin Comaniciu and Peter Meer, \"Mean Shift: A robust approach toward\n",
        "feature space analysis\". IEEE Transactions on Pattern Analysis and\n",
        "Machine Intelligence. 2002. pp. 603-619.\n"
      ]
    },
    {
      "cell_type": "code",
      "metadata": {
        "colab": {
          "base_uri": "https://localhost:8080/",
          "height": 650
        },
        "id": "tfZH9Vrh46ku",
        "outputId": "c4d45da2-5538-4e78-d517-9411f7195e2e"
      },
      "source": [
        "\n",
        "\n",
        "import numpy as np\n",
        "from sklearn.cluster import MeanShift, estimate_bandwidth\n",
        "from sklearn.datasets import make_blobs\n",
        "\n",
        "# #############################################################################\n",
        "# Generate sample data\n",
        "centers = [[2, 3],[5, 2],[4,1],[5,7],[6,1],[7,9],[8,6],[12,9],[10,9]]\n",
        "X, _ = make_blobs(n_samples=20, centers=centers, cluster_std=0.6)\n",
        "\n",
        "# #############################################################################\n",
        "# Compute clustering with MeanShift\n",
        "\n",
        "# The following bandwidth can be automatically detected using\n",
        "#The estimated bandwidth increases with increase in quantile resulting in less number of clusters.\n",
        "#Similarly, decrease in quantile decreases the bandwidth and hence higher no. of clusters.\n",
        "bandwidth = estimate_bandwidth(X, quantile=0.2, n_samples=20)\n",
        "\n",
        "ms = MeanShift(bandwidth=bandwidth, bin_seeding=True)\n",
        "ms.fit(X)\n",
        "labels = ms.labels_\n",
        "cluster_centers = ms.cluster_centers_\n",
        "\n",
        "labels_unique = np.unique(labels)\n",
        "n_clusters_ = len(labels_unique)\n",
        "\n",
        "print(\"number of estimated clusters : %d\" % n_clusters_)\n",
        "\n",
        "# #############################################################################\n",
        "# Plot result\n",
        "import matplotlib.pyplot as plt\n",
        "from itertools import cycle\n",
        "\n",
        "plt.figure(1)\n",
        "plt.clf()\n",
        "\n",
        "colors = cycle('bgrcmykbgrcmykbgrcmykbgrcmyk')\n",
        "for k, col in zip(range(n_clusters_), colors):\n",
        "    my_members = labels == k\n",
        "    cluster_center = cluster_centers[k]\n",
        "    plt.plot(X[my_members, 0], X[my_members, 1], col + '.')\n",
        "    plt.plot(cluster_center[0], cluster_center[1], 'o', markerfacecolor=col,\n",
        "             markeredgecolor='k', markersize=14)\n",
        "plt.title('Estimated number of clusters: %d' % n_clusters_)\n",
        "plt.show()\n",
        "X"
      ],
      "execution_count": null,
      "outputs": [
        {
          "output_type": "stream",
          "text": [
            "number of estimated clusters : 5\n"
          ],
          "name": "stdout"
        },
        {
          "output_type": "display_data",
          "data": {
            "image/png": "[encoded data removed]",
            "text/plain": [
              "<Figure size 432x288 with 1 Axes>"
            ]
          },
          "metadata": {
            "tags": [],
            "needs_background": "light"
          }
        },
        {
          "output_type": "execute_result",
          "data": {
            "text/plain": [
              "array([[ 5.97344038,  0.62847575],\n",
              "       [ 9.23103313,  8.3371543 ],\n",
              "       [ 7.91452564,  9.94596028],\n",
              "       [ 4.64114004,  0.68980238],\n",
              "       [12.25235414,  9.00425003],\n",
              "       [ 5.00842185,  2.47707653],\n",
              "       [ 4.82330303,  7.20858746],\n",
              "       [ 1.33185704,  3.99253224],\n",
              "       [ 6.90575957,  6.22878013],\n",
              "       [ 1.45566137,  4.16835454],\n",
              "       [ 6.69913247,  9.21970546],\n",
              "       [ 6.14315609,  1.66618442],\n",
              "       [10.92281284,  9.01085293],\n",
              "       [ 7.33890008,  5.33286152],\n",
              "       [ 3.2699205 ,  0.88626076],\n",
              "       [11.60729396,  9.92911983],\n",
              "       [ 5.60783476,  2.35514116],\n",
              "       [ 4.93021277,  7.75836799],\n",
              "       [ 5.04965994,  1.18677624],\n",
              "       [ 0.50825328,  2.57515092]])"
            ]
          },
          "metadata": {
            "tags": []
          },
          "execution_count": 38
        }
      ]
    },
    {
      "cell_type": "markdown",
      "metadata": {
        "id": "YpYmDfc8BJx6"
      },
      "source": [
        "# Convex HULL"
      ]
    },
    {
      "cell_type": "code",
      "metadata": {
        "colab": {
          "base_uri": "https://localhost:8080/",
          "height": 265
        },
        "id": "pm7Y3XxtiRPE",
        "outputId": "c18dffc6-e152-4073-857f-9dfb4bc2d42b"
      },
      "source": [
        "#,[5, 2],[4,11],[9,7],[6,1],[7,5],[8,6],[12,10],[10,9]]\r\n",
        "from scipy.spatial import ConvexHull, convex_hull_plot_2d\r\n",
        "restro = np.array([[2, 3],[5, 2],[4,11],[9,7],[6,1],[7,5],[8,6],[12,10],[10,9]])\r\n",
        "friends_location = np.array([[ 7.45551508,  5.91916609],\r\n",
        "       [ 2.29479859,  3.08426414],\r\n",
        "       [11.40723254,  9.78434511],\r\n",
        "       [ 9.56002355,  8.85562736],\r\n",
        "       [ 4.85309039,  1.98652602],\r\n",
        "       [ 1.37997151,  3.80454738],\r\n",
        "       [ 4.88075961,  1.63630707],\r\n",
        "       [ 2.59685708,  3.0835286 ],\r\n",
        "       [ 9.78062274,  9.08866152],\r\n",
        "       [ 6.49526892,  8.16509474],\r\n",
        "       [ 5.09673349,  6.30086143],\r\n",
        "       [ 5.18153494,  1.77719189],\r\n",
        "       [ 4.51759916,  0.59339006],\r\n",
        "       [ 8.23382418,  5.36660431],\r\n",
        "       [ 6.11162495,  7.97767112],\r\n",
        "       [ 6.50661778,  0.94147021],\r\n",
        "       [11.79524549,  8.97360086],\r\n",
        "       [ 5.31742305,  7.06927185],\r\n",
        "       [ 3.74726787,  1.10630291],\r\n",
        "       [ 4.14241705,  0.90041266]])\r\n",
        "hull = ConvexHull(friends_location)\r\n",
        "hull1 = ConvexHull(restro)\r\n",
        "\r\n",
        "# import matplotlib.pyplot as plt\r\n",
        "# plt.plot(friends_location[:,0], friends_location[:,1], 'o')\r\n",
        "# for simplex in hull.simplices:\r\n",
        "#     plt.plot(friends_location[simplex, 0], friends_location[simplex, 1], 'k-')\r\n",
        "\r\n",
        "import matplotlib.pyplot as plt\r\n",
        "plt.plot(restro[:,0], restro[:,1], 'o')\r\n",
        "for simplex in hull1.simplices:\r\n",
        "    plt.plot(restro[simplex, 0], restro[simplex, 1], 'k-')\r\n",
        "\r\n",
        "# plt.show()\r\n",
        "x, y = friends_location.T\r\n",
        "plt.plot(x,y, 'ro')\r\n",
        "plt.show()"
      ],
      "execution_count": null,
      "outputs": [
        {
          "output_type": "display_data",
          "data": {
            "image/png": "[encoded data removed]",
            "text/plain": [
              "<Figure size 432x288 with 1 Axes>"
            ]
          },
          "metadata": {
            "tags": [],
            "needs_background": "light"
          }
        }
      ]
    },
    {
      "cell_type": "code",
      "metadata": {
        "colab": {
          "base_uri": "https://localhost:8080/"
        },
        "id": "WSjHJanfKfJP",
        "outputId": "3dd62d3b-1391-4984-a6c4-4cb612d5ef86"
      },
      "source": [
        "hull.simplices"
      ],
      "execution_count": null,
      "outputs": [
        {
          "output_type": "execute_result",
          "data": {
            "text/plain": [
              "array([[14,  5],\n",
              "       [18,  5],\n",
              "       [18, 12],\n",
              "       [15, 16],\n",
              "       [15, 12],\n",
              "       [ 2, 16],\n",
              "       [ 9, 14],\n",
              "       [ 9,  2]], dtype=int32)"
            ]
          },
          "metadata": {
            "tags": []
          },
          "execution_count": 36
        }
      ]
    },
    {
      "cell_type": "code",
      "metadata": {
        "colab": {
          "base_uri": "https://localhost:8080/"
        },
        "id": "DoZV8XBJKRzu",
        "outputId": "05e35e05-5b66-4452-b70f-2628ff1ccd1b"
      },
      "source": [
        "hull.neighbors"
      ],
      "execution_count": null,
      "outputs": [
        {
          "output_type": "execute_result",
          "data": {
            "text/plain": [
              "array([[1, 6],\n",
              "       [0, 2],\n",
              "       [4, 1],\n",
              "       [5, 4],\n",
              "       [2, 3],\n",
              "       [3, 7],\n",
              "       [0, 7],\n",
              "       [5, 6]], dtype=int32)"
            ]
          },
          "metadata": {
            "tags": []
          },
          "execution_count": 37
        }
      ]
    },
    {
      "cell_type": "code",
      "metadata": {
        "colab": {
          "base_uri": "https://localhost:8080/",
          "height": 265
        },
        "id": "HLJNZNSJjCKh",
        "outputId": "011a431b-a20e-4ecb-c3dc-ddf17bb7feec"
      },
      "source": [
        "plt.plot(friends_location[hull.vertices,0], friends_location[hull.vertices,1], 'r--', lw=2)\r\n",
        "plt.plot(friends_location[hull.vertices[0],0], friends_location[hull.vertices[0],1], 'ro')\r\n",
        "plt.show()"
      ],
      "execution_count": null,
      "outputs": [
        {
          "output_type": "display_data",
          "data": {
            "image/png": "[encoded data removed]",
            "text/plain": [
              "<Figure size 432x288 with 1 Axes>"
            ]
          },
          "metadata": {
            "tags": [],
            "needs_background": "light"
          }
        }
      ]
    }
  ]
}