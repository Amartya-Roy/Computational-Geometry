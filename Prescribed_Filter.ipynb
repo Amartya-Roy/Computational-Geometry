{
  "nbformat": 4,
  "nbformat_minor": 0,
  "metadata": {
    "colab": {
      "name": "Prescribed Filter.ipynb",
      "private_outputs": true,
      "provenance": [],
      "authorship_tag": "ABX9TyMJhcHPQm23GG3Nnj79kdqe",
      "include_colab_link": true
    },
    "kernelspec": {
      "name": "python3",
      "display_name": "Python 3"
    }
  },
  "cells": [
    {
      "cell_type": "markdown",
      "metadata": {
        "id": "view-in-github",
        "colab_type": "text"
      },
      "source": [
        "<a href=\"https://colab.research.google.com/github/Aryabhatt-O/Computational-Geometry/blob/main/Prescribed_Filter.ipynb\" target=\"_parent\"><img src=\"https://colab.research.google.com/assets/colab-badge.svg\" alt=\"Open In Colab\"/></a>"
      ]
    },
    {
      "cell_type": "markdown",
      "metadata": {
        "id": "Y6ksj2itU5tZ"
      },
      "source": [
        "# **checking of points**"
      ]
    },
    {
      "cell_type": "code",
      "metadata": {
        "id": "uVMP0DzJVyjg"
      },
      "source": [
        "from random import *\r\n",
        "import matplotlib.pyplot as plt\r\n",
        "from scipy.spatial import Voronoi, voronoi_plot_2d\r\n",
        "import numpy as np\r\n",
        "# points = np.array([[0, 0], [0, 1], [0, 2], [1, 0], [1, 1], [1, 2],\r\n",
        "                  #  [2, 0], [2, 1], [2, 2]])\r\n",
        "\r\n",
        "M = randint(15, 25)\r\n",
        "points = np.random.uniform(10,100, size=(M, 2))\r\n",
        "vor = Voronoi(points,qhull_options='Qbb Qc Qx')\r\n",
        "voronoi_plot_2d(vor,show_vertices = True)\r\n",
        "\r\n",
        "points = []\r\n",
        "for i in range(30):\r\n",
        "  a = randint(10,100)\r\n",
        "  b = randint(10,100)\r\n",
        "  points.append([a,b])\r\n",
        "points1 = np.array([points])\r\n",
        "x, y = points1.T\r\n",
        "plt.plot(x,y, 'ko')\r\n",
        "plt.plot(new_point[0],new_point[1], 'ko')\r\n",
        "\r\n",
        "\r\n",
        "# query = []\r\n",
        "# if any(response) == True or any(dis_boo) == True or any(dis_boo1) == True:\r\n",
        "#   query.append(None)\r\n",
        "# else:\r\n",
        "#   query.append(new_point)\r\n",
        "# points.append(query)\r\n",
        "\r\n",
        "\r\n",
        "\r\n",
        "\r\n",
        "\r\n",
        "for region in vor.regions:\r\n",
        "    if not -1 in region:\r\n",
        "        polygon = [vor.vertices[i] for i in region]\r\n",
        "        plt.fill(*zip(*polygon))\r\n",
        "\r\n",
        "\r\n",
        "\r\n",
        "#edge points \r\n",
        "edge_points = []\r\n",
        "for vpair in vor.ridge_vertices:\r\n",
        "  if vpair[0] >= 0 and vpair[1] >= 0:\r\n",
        "    v0 = vor.vertices[vpair[0]]\r\n",
        "    v1 = vor.vertices[vpair[1]]\r\n",
        "    # print(v0,v1)\r\n",
        "    edge_points.append(np.array([v0,v1]))\r\n",
        "\r\n",
        "for a , i in enumerate(edge_points):\r\n",
        "  print(a,i,end = '\\n')\r\n",
        "\r\n",
        "\r\n"
      ],
      "execution_count": null,
      "outputs": []
    },
    {
      "cell_type": "code",
      "metadata": {
        "id": "gj9HX0TfOq1H"
      },
      "source": [
        "for i in range(20):\r\n",
        "  a = randint(10,100)\r\n",
        "  b = randint(10,100)\r\n",
        "  print([a,b])\r\n"
      ],
      "execution_count": null,
      "outputs": []
    },
    {
      "cell_type": "markdown",
      "metadata": {
        "id": "mt72jeMsryTm"
      },
      "source": [
        "#**checking colinearity**"
      ]
    },
    {
      "cell_type": "code",
      "metadata": {
        "id": "PV4B_DtJXEqM"
      },
      "source": [
        "\r\n",
        "new_point = [a,b]\r\n",
        "\r\n",
        "from sympy import Point\r\n",
        "response = []\r\n",
        "for i in range(len(edge_points)):\r\n",
        "  p1,p2 = edge_points[i]\r\n",
        "  a,b,c = Point(p1),Point(p2),Point(new_point)\r\n",
        "  Point.is_collinear(a,b,c)\r\n",
        "  response.append(Point.is_collinear(a,b,c))\r\n",
        "\r\n",
        "newPoint1 = []\r\n",
        "\r\n",
        "if any(response) == True:\r\n",
        "  newPoint1.append(None)\r\n",
        "else:\r\n",
        "  newPoint1.append(new_point)\r\n",
        "\r\n",
        "  \r\n",
        "\r\n",
        "\r\n",
        "\r\n",
        " \r\n",
        "\r\n",
        "newPoint1\r\n",
        "\r\n"
      ],
      "execution_count": null,
      "outputs": []
    },
    {
      "cell_type": "markdown",
      "metadata": {
        "id": "y8kn0Blqrqar"
      },
      "source": [
        "# **Checking overlap with restro points**"
      ]
    },
    {
      "cell_type": "code",
      "metadata": {
        "id": "6NMlDiSPsR5e"
      },
      "source": [
        "new_point = [46,15]\r\n",
        "# new_point = [0.5,1.5]\r\n",
        "distance = (np.sum((points - new_point)**2, axis=1))\r\n",
        "\r\n",
        "dis_boo = [] \r\n",
        "for i in range(len(distance)):\r\n",
        "  if distance[i] == 0:\r\n",
        "    dis_boo.append(True)\r\n",
        "  else:\r\n",
        "    dis_boo.append(False)\r\n",
        "\r\n",
        "newPoint1 = []\r\n",
        "\r\n",
        "if any(dis_boo) == True:\r\n",
        "  newPoint1.append(None)\r\n",
        "else:\r\n",
        "  newPoint1.append(new_point)\r\n",
        "\r\n",
        "\r\n",
        "newPoint1"
      ],
      "execution_count": null,
      "outputs": []
    },
    {
      "cell_type": "markdown",
      "metadata": {
        "id": "iqQxnnc78l1C"
      },
      "source": [
        "# **Check overlap with voronoi vertices**"
      ]
    },
    {
      "cell_type": "code",
      "metadata": {
        "id": "TZ2G3pJzyvte"
      },
      "source": [
        "\r\n",
        "new_point = [46,15]\r\n",
        "\r\n",
        "# new_point = [0.5,1.5]\r\n",
        "man_distance = (np.sum((vor.vertices - new_point)**2, axis=1))\r\n",
        "\r\n",
        "dis_boo1 = [] \r\n",
        "for i in range(len(man_distance)):\r\n",
        "  if man_distance[i] == 0:\r\n",
        "    dis_boo1.append(True)\r\n",
        "  else:\r\n",
        "    dis_boo1.append(False)\r\n",
        "\r\n",
        "newPoint1 = []\r\n",
        "\r\n",
        "if any(dis_boo1) == True:\r\n",
        "  newPoint1.append(None)\r\n",
        "else:\r\n",
        "  newPoint1.append(new_point)\r\n",
        "\r\n",
        "\r\n",
        "newPoint1"
      ],
      "execution_count": null,
      "outputs": []
    },
    {
      "cell_type": "code",
      "metadata": {
        "id": "xALLOxr_-fNt"
      },
      "source": [
        "\r\n",
        "\r\n",
        "new_point = [46,15]\r\n",
        "query = []\r\n",
        "if any(response) == True and any(dis_boo) == True and any(dis_boo1) == True:\r\n",
        "  query.append(None)\r\n",
        "else:\r\n",
        "  query.append(new_point)\r\n",
        "\r\n",
        "\r\n",
        "query"
      ],
      "execution_count": null,
      "outputs": []
    },
    {
      "cell_type": "code",
      "metadata": {
        "id": "UtUXMVOGF1kB"
      },
      "source": [
        "x = 7\r\n",
        "y =8\r\n",
        "z = 9\r\n",
        "if x==y and x ==z:\r\n",
        "  print(x)"
      ],
      "execution_count": null,
      "outputs": []
    },
    {
      "cell_type": "code",
      "metadata": {
        "id": "gxGzD53NNR_S"
      },
      "source": [
        ""
      ],
      "execution_count": null,
      "outputs": []
    }
  ]
}